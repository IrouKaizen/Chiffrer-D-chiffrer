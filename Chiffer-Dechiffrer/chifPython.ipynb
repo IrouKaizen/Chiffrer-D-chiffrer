{
 "cells": [
  {
   "cell_type": "code",
   "execution_count": 1,
   "id": "af6ba3a5",
   "metadata": {},
   "outputs": [],
   "source": [
    "from cryptography.fernet import Fernet"
   ]
  },
  {
   "cell_type": "code",
   "execution_count": 7,
   "id": "1c75ca7f",
   "metadata": {},
   "outputs": [],
   "source": [
    "#creation de la cle\n",
    "\n",
    "#key = Fernet.generate_key()\n",
    "#fichierCle = open(\"azerty.key\", \"wb\")\n",
    "#fichierCle.write(key)\n",
    "#fichierCle.close()"
   ]
  },
  {
   "cell_type": "code",
   "execution_count": 8,
   "id": "26be899e",
   "metadata": {},
   "outputs": [],
   "source": [
    "#Ouvrir fichier clé\n",
    "\n",
    "fichierCle = open(\"azerty.key\", \"rb\")\n",
    "key = fichierCle.read()\n",
    "\n",
    "f = Fernet(key)"
   ]
  },
  {
   "cell_type": "code",
   "execution_count": 18,
   "id": "8f5cb467",
   "metadata": {},
   "outputs": [],
   "source": [
    "#Ouvrons le fichier à chiffrer\n",
    "\n",
    "Achiffrer = open(\"azerty.txt\", \"rb\")\n",
    "aChiff = Achiffrer.read()\n",
    "Achiffrer.close()"
   ]
  },
  {
   "cell_type": "code",
   "execution_count": 19,
   "id": "3f52948a",
   "metadata": {},
   "outputs": [],
   "source": [
    "#Chiffrement des données\n",
    "\n",
    "chiffrement = f.encrypt(aChiff)"
   ]
  },
  {
   "cell_type": "code",
   "execution_count": 20,
   "id": "9e944b90",
   "metadata": {},
   "outputs": [],
   "source": [
    "#Sauvegarde des données chiffrées\n",
    "\n",
    "fichierChiffrement = open(\"qwerty.txt\", \"wb\")\n",
    "fichierChiffrement.write(chiffrement)\n",
    "fichierChiffrement.close()"
   ]
  },
  {
   "cell_type": "code",
   "execution_count": null,
   "id": "0273be26",
   "metadata": {},
   "outputs": [],
   "source": [
    "################################################################"
   ]
  },
  {
   "cell_type": "code",
   "execution_count": 29,
   "id": "9157143a",
   "metadata": {},
   "outputs": [],
   "source": [
    "#Ouvrir fichierChiffré\n",
    "\n",
    "fichierC = open(\"qwerty.txt\", \"rb\")\n",
    "infChif = fichierC.read()\n",
    "fichierC.close()"
   ]
  },
  {
   "cell_type": "code",
   "execution_count": 30,
   "id": "b8ad64d1",
   "metadata": {},
   "outputs": [],
   "source": [
    "#Ouvrons le fichier clé\n",
    "\n",
    "fichierCle = open(\"azerty.key\", \"rb\")\n",
    "key = fichierCle.read()\n",
    "\n",
    "f = Fernet(key)\n",
    "\n",
    "dechiff = f.decrypt(infChif)"
   ]
  },
  {
   "cell_type": "code",
   "execution_count": 31,
   "id": "b8e3f2bb",
   "metadata": {},
   "outputs": [],
   "source": [
    "#Fichier déchifré\n",
    "\n",
    "fichDe = open(\"azerty.txt\", \"wb\")\n",
    "fichDe.write(dechiff)\n",
    "fichDe.close()"
   ]
  },
  {
   "cell_type": "code",
   "execution_count": null,
   "id": "0fe647d3",
   "metadata": {},
   "outputs": [],
   "source": []
  }
 ],
 "metadata": {
  "kernelspec": {
   "display_name": "Python 3",
   "language": "python",
   "name": "python3"
  },
  "language_info": {
   "codemirror_mode": {
    "name": "ipython",
    "version": 3
   },
   "file_extension": ".py",
   "mimetype": "text/x-python",
   "name": "python",
   "nbconvert_exporter": "python",
   "pygments_lexer": "ipython3",
   "version": "3.8.8"
  }
 },
 "nbformat": 4,
 "nbformat_minor": 5
}
